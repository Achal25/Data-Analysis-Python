{
  "nbformat": 4,
  "nbformat_minor": 0,
  "metadata": {
    "colab": {
      "name": "CwcAnalysis.ipynb",
      "provenance": [],
      "collapsed_sections": []
    },
    "kernelspec": {
      "name": "python3",
      "display_name": "Python 3"
    },
    "language_info": {
      "name": "python"
    }
  },
  "cells": [
    {
      "cell_type": "code",
      "metadata": {
        "id": "FZANZouCNA12"
      },
      "source": [
        "import numpy as np \n",
        "import pandas as pd \n",
        "import matplotlib.pyplot as plt\n",
        "import seaborn as sns "
      ],
      "execution_count": null,
      "outputs": []
    },
    {
      "cell_type": "code",
      "metadata": {
        "id": "8YrKxcKfNs-t"
      },
      "source": [
        "cwc_data=pd.read_csv(\"/content/drive/MyDrive/cwc20data.csv\")"
      ],
      "execution_count": null,
      "outputs": []
    },
    {
      "cell_type": "code",
      "metadata": {
        "id": "iwxc0NxNN9Pb"
      },
      "source": [
        "cwc_data.head()"
      ],
      "execution_count": null,
      "outputs": []
    },
    {
      "cell_type": "code",
      "metadata": {
        "id": "9qOVmpf-OFA1"
      },
      "source": [
        "cwc_data.head(50)"
      ],
      "execution_count": null,
      "outputs": []
    },
    {
      "cell_type": "code",
      "metadata": {
        "id": "Yry_LFunOhIP"
      },
      "source": [
        "cwc_data['Match_winner'].value_counts()"
      ],
      "execution_count": null,
      "outputs": []
    },
    {
      "cell_type": "code",
      "metadata": {
        "id": "4IOULnDXO0vk"
      },
      "source": [
        "cwc_data.Match_winner[cwc_data.city=='Colombo']"
      ],
      "execution_count": null,
      "outputs": []
    },
    {
      "cell_type": "code",
      "metadata": {
        "id": "tcZO9BHsSDrc"
      },
      "source": [
        "cwc_data.Match_winner[cwc_data.city=='Dhaka']"
      ],
      "execution_count": null,
      "outputs": []
    },
    {
      "cell_type": "code",
      "metadata": {
        "id": "i07L5aehSJkn"
      },
      "source": [
        "cwc_data.Match_winner[cwc_data.Year==2012].value_counts()"
      ],
      "execution_count": null,
      "outputs": []
    },
    {
      "cell_type": "code",
      "metadata": {
        "id": "jQz2no1LSzrC"
      },
      "source": [
        "cwc_data.Match_winner[cwc_data.Year==2016].value_counts()"
      ],
      "execution_count": null,
      "outputs": []
    },
    {
      "cell_type": "code",
      "metadata": {
        "id": "_YrqLHNiSqvc"
      },
      "source": [
        "cwc_data.Match_winner[cwc_data.Year==2014].value_counts()"
      ],
      "execution_count": null,
      "outputs": []
    },
    {
      "cell_type": "code",
      "metadata": {
        "id": "SEh_4PHcS9-1"
      },
      "source": [
        "cwc_data.Match_winner[(cwc_data.result=='Runs')&(cwc_data.Year==2012)].value_counts()"
      ],
      "execution_count": null,
      "outputs": []
    },
    {
      "cell_type": "code",
      "metadata": {
        "id": "mILXJpmkTzKg"
      },
      "source": [
        "cwc_data.Match_winner[(cwc_data.result=='Wickets')&(cwc_data.Year==2016)].value_counts()"
      ],
      "execution_count": null,
      "outputs": []
    },
    {
      "cell_type": "code",
      "metadata": {
        "id": "QH5kfVdhYDjP"
      },
      "source": [
        "cwc_data['Match_winner'].value_counts().plot.pie(autopct='%1.1f%%',shadow=True,rotatelabels=True)\n",
        "plt.title(\"Matches won by teams in T20 WC 2012-2016\",fontweight=\"bold\",fontsize=20)\n",
        "plt.show()"
      ],
      "execution_count": null,
      "outputs": []
    },
    {
      "cell_type": "code",
      "metadata": {
        "id": "ZzndEMchTrq7"
      },
      "source": [
        "cwc_data.Match_winner[(cwc_data.result=='Runs')&(cwc_data.Year==2014)].value_counts()"
      ],
      "execution_count": null,
      "outputs": []
    },
    {
      "cell_type": "code",
      "metadata": {
        "id": "lf9JWQ6eTjQm"
      },
      "source": [
        "cwc_data.Match_winner[(cwc_data.result=='Wickets')&(cwc_data.Year==2012)].value_counts()"
      ],
      "execution_count": null,
      "outputs": []
    },
    {
      "cell_type": "code",
      "metadata": {
        "id": "aVeSMe20R8-a"
      },
      "source": [
        "cwc_data.Match_winner[cwc_data.city=='Kolkata']"
      ],
      "execution_count": null,
      "outputs": []
    }
  ]
}